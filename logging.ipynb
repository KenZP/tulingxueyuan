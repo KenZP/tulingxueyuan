{
 "cells": [
  {
   "cell_type": "markdown",
   "metadata": {},
   "source": [
    "# logging--https://www.cnblogs.com/yyds/p/6901864.html\n",
    "- 日志级别\n",
    "  - 级别可自定义\n",
    "  - Python自带级别\n",
    "  - DEBUG\n",
    "  - INFO\n",
    "  - WARNING\n",
    "  - ERROR\n",
    "  - CRITICAL\n",
    "- 初始化/写日志实例需要指定级别，只有当级别等于或者高于指定级别时才被记录\n",
    "- 使用方式\n",
    "  - 直接使用logging（封装了其他组件）\n",
    "  - logging四大组件直接定制\n"
   ]
  },
  {
   "cell_type": "markdown",
   "metadata": {},
   "source": [
    "# logging模块级别的日志\n",
    "- 使用以下几个函数\n",
    "  - logging.debug(msg,*args,**kwargs)\n",
    "  - logging.info(msg,*args,**kwargs)\n",
    "  - 其他类似\n",
    "  - logging.log(level,*args,**kwargs) 创建一条严重级别为level的日志记录\n",
    "  - logging.basicConfig(**kwargs)  对root logger进行一次性配置\n",
    "    - 不配置的话，使用默认\n",
    "      - 输出： sys.stderr\n",
    "      - 级别： WARNING\n",
    "      - 格式： level:log_name:content"
   ]
  },
  {
   "cell_type": "code",
   "execution_count": 15,
   "metadata": {},
   "outputs": [
    {
     "name": "stderr",
     "output_type": "stream",
     "text": [
      "WARNING:root:this is a warning log\n"
     ]
    }
   ],
   "source": [
    "import logging\n",
    "\n",
    "LOG_FORMAT = \"%(asctime)s====%(levelname)s++++++%(message)s\"\n",
    "logging.basicConfig(filename = \"ken.log\",level=logging.DEBUG,format=LOG_FORMAT)\n",
    "\n",
    "\n",
    "logging.debug(\"this is a debug log\")\n",
    "logging.warning(\"this is a warning log\")\n",
    "logging.log(logging.DEBUG, \"this is a debug log\")"
   ]
  },
  {
   "cell_type": "markdown",
   "metadata": {},
   "source": [
    "# format参数\n"
   ]
  },
  {
   "cell_type": "markdown",
   "metadata": {},
   "source": [
    "# logging模块的处理流程\n",
    "- 四大组件\n",
    "  - 日志器（Logger）：产生日志的一个接口\n",
    "  - 处理器（Handler）：把产生的日志发送到相应的目的地\n",
    "  - 过滤器（Filter）：更精细的控制那些日志输出\n",
    "  - 格式器（Formatter）：对输出信息进行格式化"
   ]
  },
  {
   "cell_type": "code",
   "execution_count": null,
   "metadata": {},
   "outputs": [],
   "source": []
  }
 ],
 "metadata": {
  "kernelspec": {
   "display_name": "Python 3",
   "language": "python",
   "name": "python3"
  },
  "language_info": {
   "codemirror_mode": {
    "name": "ipython",
    "version": 3
   },
   "file_extension": ".py",
   "mimetype": "text/x-python",
   "name": "python",
   "nbconvert_exporter": "python",
   "pygments_lexer": "ipython3",
   "version": "3.6.5"
  }
 },
 "nbformat": 4,
 "nbformat_minor": 2
}
