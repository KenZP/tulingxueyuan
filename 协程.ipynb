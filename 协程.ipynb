{
 "cells": [
  {
   "cell_type": "markdown",
   "metadata": {},
   "source": [
    "# 协程\n",
    "- 参考资料\n",
    "# 迭代器\n",
    "- 可迭代（iterable）：直接作用于for循环的变量\n",
    "- 迭代器（iterator）：不但可以作用于for循环，还可以被next调用\n",
    "- list是典型的可迭代对象，但不是迭代器\n",
    "- 通过isinstance判断\n",
    "- iterable和iterator可以互相转换\n",
    "  - 通过iter函数"
   ]
  },
  {
   "cell_type": "code",
   "execution_count": 3,
   "metadata": {},
   "outputs": [
    {
     "name": "stdout",
     "output_type": "stream",
     "text": [
      "0\n",
      "1\n",
      "2\n",
      "3\n",
      "4\n",
      "5\n",
      "6\n",
      "7\n",
      "8\n",
      "9\n",
      "0\n",
      "1\n",
      "2\n",
      "3\n",
      "4\n"
     ]
    }
   ],
   "source": [
    "# 可迭代\n",
    "\n",
    "l = [i for i in range(10)]\n",
    "\n",
    "for idx in l:\n",
    "    print(idx)\n",
    "    \n",
    "    \n",
    "for i in range(5):\n",
    "    print(i)"
   ]
  },
  {
   "cell_type": "code",
   "execution_count": 4,
   "metadata": {},
   "outputs": [
    {
     "name": "stdout",
     "output_type": "stream",
     "text": [
      "True\n",
      "False\n"
     ]
    }
   ],
   "source": [
    "from collections import Iterable\n",
    "\n",
    "l = [1,2,3,4,5]\n",
    "\n",
    "print(isinstance(l,Iterable))\n",
    "\n",
    "\n",
    "from collections import Iterator\n",
    "\n",
    "l = [1,2,3,4,5]\n",
    "\n",
    "print(isinstance(l,Iterator))"
   ]
  },
  {
   "cell_type": "markdown",
   "metadata": {},
   "source": [
    "# 生成器\n",
    "- generator：一边循环一边计算下一个元素的机制/算法\n",
    "- 需要满足三个条件\n",
    "  - 每次调用都生成for循环需要的下一个元素或者\n",
    "  - 如果达到最后一个，报出stopiteration异常\n",
    "  - 可以被next函数调用\n",
    "- 如何生成一个生成器\n",
    "  - 直接使用\n",
    "  - 如果函数包含yield，则这个函数就叫生成器\n",
    "  - next调用函数，遇到yield返回"
   ]
  },
  {
   "cell_type": "code",
   "execution_count": 6,
   "metadata": {},
   "outputs": [
    {
     "name": "stdout",
     "output_type": "stream",
     "text": [
      "<class 'list'>\n",
      "<class 'generator'>\n"
     ]
    }
   ],
   "source": [
    "#直接使用生成器\n",
    "l = [x*x for x in range(5)]#放在中括号就是里列表生成器\n",
    "g = (x*x for x in range(5))#放在小括号就是生成器\n",
    "\n",
    "print(type(l))\n",
    "print(type(g))"
   ]
  },
  {
   "cell_type": "code",
   "execution_count": 7,
   "metadata": {},
   "outputs": [
    {
     "name": "stdout",
     "output_type": "stream",
     "text": [
      "Step 1\n",
      "Step 2\n",
      "Step 3\n"
     ]
    }
   ],
   "source": [
    "# 函数案例\n",
    "\n",
    "def odd():\n",
    "    print(\"Step 1\")\n",
    "    print(\"Step 2\")\n",
    "    print(\"Step 3\")\n",
    "    return None\n",
    "odd()"
   ]
  },
  {
   "cell_type": "code",
   "execution_count": 27,
   "metadata": {},
   "outputs": [
    {
     "name": "stdout",
     "output_type": "stream",
     "text": [
      "Step 1\n",
      "1\n",
      "Step 2\n",
      "2\n",
      "Step 3\n",
      "3\n"
     ]
    }
   ],
   "source": [
    "# 生成器案例\n",
    "# 在函数odd中，yield负责返回\n",
    "def odd():\n",
    "    print(\"Step 1\")\n",
    "    yield 1\n",
    "    print(\"Step 2\")\n",
    "    yield 2\n",
    "    print(\"Step 3\")\n",
    "    yield 3\n",
    "    \n",
    "# odd()是调用生成器\n",
    "g = odd()\n",
    "one = next(g)\n",
    "print(one)\n",
    "two = next(g)\n",
    "print(two)\n",
    "\n",
    "three = next(g)\n",
    "print(three)"
   ]
  },
  {
   "cell_type": "code",
   "execution_count": 29,
   "metadata": {},
   "outputs": [
    {
     "name": "stdout",
     "output_type": "stream",
     "text": [
      "1\n",
      "1\n",
      "2\n",
      "3\n",
      "5\n"
     ]
    },
    {
     "data": {
      "text/plain": [
       "'done'"
      ]
     },
     "execution_count": 29,
     "metadata": {},
     "output_type": "execute_result"
    }
   ],
   "source": [
    "# for循环调用生成器\n",
    "\n",
    "def fib(max):\n",
    "    n,a,b = 0, 0, 1\n",
    "    while n < max:\n",
    "        print(b)\n",
    "        a,b = b,a + b\n",
    "        n += 1\n",
    "    return \"done\"\n",
    "\n",
    "fib(5)"
   ]
  },
  {
   "cell_type": "code",
   "execution_count": 38,
   "metadata": {},
   "outputs": [
    {
     "name": "stdout",
     "output_type": "stream",
     "text": [
      "1\n",
      "1\n",
      "2\n",
      "3\n",
      "5\n"
     ]
    },
    {
     "ename": "TypeError",
     "evalue": "'str' object is not an iterator",
     "output_type": "error",
     "traceback": [
      "\u001b[1;31m---------------------------------------------------------------------------\u001b[0m",
      "\u001b[1;31mTypeError\u001b[0m                                 Traceback (most recent call last)",
      "\u001b[1;32m<ipython-input-38-c21ca441e987>\u001b[0m in \u001b[0;36m<module>\u001b[1;34m()\u001b[0m\n\u001b[0;32m     13\u001b[0m \u001b[1;33m\u001b[0m\u001b[0m\n\u001b[0;32m     14\u001b[0m \u001b[1;32mfor\u001b[0m \u001b[0mi\u001b[0m \u001b[1;32min\u001b[0m \u001b[0mrange\u001b[0m\u001b[1;33m(\u001b[0m\u001b[1;36m6\u001b[0m\u001b[1;33m)\u001b[0m\u001b[1;33m:\u001b[0m\u001b[1;33m\u001b[0m\u001b[0m\n\u001b[1;32m---> 15\u001b[1;33m     \u001b[0mrst\u001b[0m \u001b[1;33m=\u001b[0m \u001b[0mnext\u001b[0m\u001b[1;33m(\u001b[0m\u001b[0mg\u001b[0m\u001b[1;33m)\u001b[0m\u001b[1;33m\u001b[0m\u001b[0m\n\u001b[0m\u001b[0;32m     16\u001b[0m     \u001b[0mprint\u001b[0m\u001b[1;33m(\u001b[0m\u001b[0mrst\u001b[0m\u001b[1;33m)\u001b[0m\u001b[1;33m\u001b[0m\u001b[0m\n",
      "\u001b[1;31mTypeError\u001b[0m: 'str' object is not an iterator"
     ]
    }
   ],
   "source": [
    "# 斐波那契数列生成器写法\n",
    "\n",
    "def fib(max):\n",
    "    n,a,b = 0, 0, 1\n",
    "    while n < max:\n",
    "        print(b)\n",
    "        a,b = b,a + b\n",
    "        n += 1\n",
    "# 需要注意，报出异常的返回值是return的返回值\n",
    "    return \"done\"\n",
    "\n",
    "g = fib(5)\n",
    "\n",
    "for i in range(6):\n",
    "    rst = next(g)\n",
    "    print(rst)"
   ]
  },
  {
   "cell_type": "code",
   "execution_count": 42,
   "metadata": {},
   "outputs": [
    {
     "name": "stdout",
     "output_type": "stream",
     "text": [
      "1\n",
      "1\n",
      "2\n",
      "3\n",
      "5\n",
      "8\n",
      "13\n",
      "21\n",
      "34\n",
      "55\n",
      "d\n",
      "o\n",
      "n\n",
      "e\n"
     ]
    }
   ],
   "source": [
    "# 在for循环里使用生成器\n",
    "# 生成器的典型用法就是在for循环使用\n",
    "#比较典型的生成器是range\n",
    "ge = fib(10)\n",
    "\n",
    "for i in ge:\n",
    "    print(i)"
   ]
  },
  {
   "cell_type": "markdown",
   "metadata": {},
   "source": [
    "# 协程\n",
    "- 历史\n",
    "  - 3.4引入协程，用yield实现\n",
    "  - 3.5引入协程语法\n",
    "  - 实现协程比较好的包有asyncio，tornado，gevent\n",
    "- 定义：协程，是为非抢占式多任务产生子程序的计算机程序组件，协程允许不同入口点在不同位置暂停或者开始执行程序\n",
    "- 从技术角度，协程就是一个你可以暂停执行的函数，或者干脆把协程理解为生成器\n",
    "- 协程的实现\n",
    "  - yield返回\n",
    "  - send调用\n",
    "  \n",
    "- 协程的四个状态\n",
    "  - inspect.getgeneratorstate()函数确认，该函数会返回下述字符串中的一个\n",
    "  - GEN_GREATED:等待开始执行\n",
    "  - GEN_RUNNING:解释器正在执行\n",
    "  - GEN_SUSPEND:再yield表达式处暂停\n",
    "  - GEN_CLOSED:执行结束\n",
    "  - next预激（prime）\n",
    "- 协程终止\n",
    "  - 协程中未处理的异常会向上冒泡，传给next函数或者send方法的调用方（即触发协程的对象）\n",
    "  - 终止协程的一种方法：发送某个哨兵值，让协程退出，内置的None和Ellipsis等常量经常用作哨兵值==。\n",
    "  \n",
    "- yield from\n",
    "  - 调用协程为了得到返回值，协程必须正常终止\n",
    "  - 生成器正常终止会发出stopiteration异常，异常对象的value属性保存返回值。\n",
    "  - yield from从内部捕获stopiteration异常\n",
    "  - 委派生成器\n",
    "    - 包含yield from表达式的生成器函数\n",
    "    - 委派生成器在yield from表达式处暂停，调用方可以直接把数据发给生成器\n",
    "    - 子生成器在把产生的值发给调用方\n",
    "    - 子生成器在最后，解释器会抛出stopiteration，并把返回值附加到异常对象上\n",
    "    "
   ]
  },
  {
   "cell_type": "code",
   "execution_count": 44,
   "metadata": {},
   "outputs": [
    {
     "name": "stdout",
     "output_type": "stream",
     "text": [
      "1111\n",
      "-->start\n",
      "2222\n",
      "-->recived zhexiao\n"
     ]
    },
    {
     "ename": "StopIteration",
     "evalue": "",
     "output_type": "error",
     "traceback": [
      "\u001b[1;31m---------------------------------------------------------------------------\u001b[0m",
      "\u001b[1;31mStopIteration\u001b[0m                             Traceback (most recent call last)",
      "\u001b[1;32m<ipython-input-44-b7eefd4bd70e>\u001b[0m in \u001b[0;36m<module>\u001b[1;34m()\u001b[0m\n\u001b[0;32m     13\u001b[0m \u001b[0mprint\u001b[0m\u001b[1;33m(\u001b[0m\u001b[1;36m2222\u001b[0m\u001b[1;33m)\u001b[0m\u001b[1;33m\u001b[0m\u001b[0m\n\u001b[0;32m     14\u001b[0m \u001b[1;33m\u001b[0m\u001b[0m\n\u001b[1;32m---> 15\u001b[1;33m \u001b[0msc\u001b[0m\u001b[1;33m.\u001b[0m\u001b[0msend\u001b[0m\u001b[1;33m(\u001b[0m\u001b[1;34m'zhexiao'\u001b[0m\u001b[1;33m)\u001b[0m\u001b[1;33m\u001b[0m\u001b[0m\n\u001b[0m",
      "\u001b[1;31mStopIteration\u001b[0m: "
     ]
    }
   ],
   "source": [
    "#协程案例\n",
    "\n",
    "def simple_coroutine():\n",
    "    print('-->start')\n",
    "    x = yield\n",
    "    print('-->recived',x)\n",
    "#主线程    \n",
    "sc = simple_coroutine()\n",
    "print(1111)\n",
    "#可以使用sc.send（None），效果一样\n",
    "next(sc)#预激\n",
    "\n",
    "print(2222)\n",
    "\n",
    "sc.send('zhexiao')"
   ]
  },
  {
   "cell_type": "code",
   "execution_count": 45,
   "metadata": {},
   "outputs": [
    {
     "name": "stdout",
     "output_type": "stream",
     "text": [
      "-->start\n",
      "5\n",
      "-->recived 5 6\n",
      "11\n",
      "-->recived 5 6 7\n"
     ]
    },
    {
     "ename": "StopIteration",
     "evalue": "",
     "output_type": "error",
     "traceback": [
      "\u001b[1;31m---------------------------------------------------------------------------\u001b[0m",
      "\u001b[1;31mStopIteration\u001b[0m                             Traceback (most recent call last)",
      "\u001b[1;32m<ipython-input-45-789d448e0fa4>\u001b[0m in \u001b[0;36m<module>\u001b[1;34m()\u001b[0m\n\u001b[0;32m     13\u001b[0m \u001b[0mbb\u001b[0m \u001b[1;33m=\u001b[0m \u001b[0msc\u001b[0m\u001b[1;33m.\u001b[0m\u001b[0msend\u001b[0m\u001b[1;33m(\u001b[0m\u001b[1;36m6\u001b[0m\u001b[1;33m)\u001b[0m\u001b[1;31m#5,6\u001b[0m\u001b[1;33m\u001b[0m\u001b[0m\n\u001b[0;32m     14\u001b[0m \u001b[0mprint\u001b[0m\u001b[1;33m(\u001b[0m\u001b[0mbb\u001b[0m\u001b[1;33m)\u001b[0m\u001b[1;33m\u001b[0m\u001b[0m\n\u001b[1;32m---> 15\u001b[1;33m \u001b[0mcc\u001b[0m \u001b[1;33m=\u001b[0m \u001b[0msc\u001b[0m\u001b[1;33m.\u001b[0m\u001b[0msend\u001b[0m\u001b[1;33m(\u001b[0m\u001b[1;36m7\u001b[0m\u001b[1;33m)\u001b[0m\u001b[1;33m\u001b[0m\u001b[0m\n\u001b[0m\u001b[0;32m     16\u001b[0m \u001b[0mprint\u001b[0m\u001b[1;33m(\u001b[0m\u001b[0mcc\u001b[0m\u001b[1;33m)\u001b[0m\u001b[1;31m#5,6,7\u001b[0m\u001b[1;33m\u001b[0m\u001b[0m\n",
      "\u001b[1;31mStopIteration\u001b[0m: "
     ]
    }
   ],
   "source": [
    "#协程的状态\n",
    "def simple_coroutine(a):\n",
    "    print('-->start')\n",
    "    b = yield a\n",
    "    print('-->recived',a,b)\n",
    "    \n",
    "    c = yield a + b\n",
    "    print('-->recived',a,b,c)\n",
    "#runc   \n",
    "sc = simple_coroutine(5)\n",
    "\n",
    "aa = next(sc)\n",
    "print(aa)\n",
    "bb = sc.send(6)#5,6\n",
    "print(bb)\n",
    "cc = sc.send(7)\n",
    "print(cc)#5,6,7"
   ]
  },
  {
   "cell_type": "code",
   "execution_count": 48,
   "metadata": {},
   "outputs": [
    {
     "name": "stdout",
     "output_type": "stream",
     "text": [
      "['A', 'B']\n",
      "['A', 'B']\n"
     ]
    }
   ],
   "source": [
    "def gen():\n",
    "    for c in 'AB':\n",
    "        yield c\n",
    "print(list(gen()))\n",
    "\n",
    "def new_gen():\n",
    "    yield from 'AB'\n",
    "print(list(new_gen()))"
   ]
  },
  {
   "cell_type": "markdown",
   "metadata": {},
   "source": [
    "# asyncio\n",
    "- python3.4开始引入标准库当中，内置对异步io的支持\n",
    "- asyncio本身是一个消息循环\n",
    "- 步骤\n",
    "  - 创建消息循环\n",
    "  - 把协程导入\n",
    "  - 关闭"
   ]
  },
  {
   "cell_type": "markdown",
   "metadata": {},
   "source": [
    "# async and await\n",
    "- 为了跟好的表示异步io\n",
    "- python3.5引入\n",
    "- 让协程代码更简洁\n",
    "- 使用上，可以简单的进行替换\n",
    "  - 用async替换@asyncio.coroutine\n",
    "  - await替换yield from"
   ]
  },
  {
   "cell_type": "markdown",
   "metadata": {},
   "source": [
    "# aiohttp\n",
    "- aiohttp实现单线程的并发io，在客户端用处不大\n",
    "- 在服务器端可以asyncio+coroutin配合，因为http是io操作\n",
    "- asyncio实现了tcp，udp，ssl等协议\n",
    "- aiohttp是给予asyncio实现的http框架"
   ]
  },
  {
   "cell_type": "markdown",
   "metadata": {},
   "source": [
    "# concurrent.futures\n",
    "- python3新增加的库\n",
    "- 类似其他语言的线程池的概念\n",
    "- 利用multiprecessiong实现真正的并行计算\n",
    "- 核心原理：以子进程的形式，并行运行多个python解释器，从而令python程序可以利用多核CPU来提升执行速度\n",
    "- 由于子进程和主解释器相分离，所以他们的全局解释器锁也是相互独立的\n",
    "- 每个子进程都能够完整的使用一个CPU内核\n",
    "- concurrent.futures.executor\n",
    "  - ThreadPoolExecutor\n",
    "  - ProcessPoolExecutor\n",
    "  - 执行的时候需要自行选择\n",
    "- submit（fn,args,kwargs）\n",
    "  - fn：异步执行的函数\n",
    "  - args,kwargs参数\n"
   ]
  },
  {
   "cell_type": "code",
   "execution_count": null,
   "metadata": {},
   "outputs": [],
   "source": []
  }
 ],
 "metadata": {
  "kernelspec": {
   "display_name": "Python 3",
   "language": "python",
   "name": "python3"
  },
  "language_info": {
   "codemirror_mode": {
    "name": "ipython",
    "version": 3
   },
   "file_extension": ".py",
   "mimetype": "text/x-python",
   "name": "python",
   "nbconvert_exporter": "python",
   "pygments_lexer": "ipython3",
   "version": "3.6.5"
  }
 },
 "nbformat": 4,
 "nbformat_minor": 2
}
