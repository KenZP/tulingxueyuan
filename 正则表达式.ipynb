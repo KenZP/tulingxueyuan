{
 "cells": [
  {
   "cell_type": "code",
   "execution_count": 8,
   "metadata": {},
   "outputs": [
    {
     "name": "stdout",
     "output_type": "stream",
     "text": [
      "<_sre.SRE_Match object; span=(3, 5), match='12'>\n"
     ]
    }
   ],
   "source": [
    "import re\n",
    "\n",
    "#查找数字\n",
    "\n",
    "p = re.compile(r'\\d+')\n",
    "#在字符串中去查找，按照p制定的正则表达式进行查找\n",
    "m = p.match(\"one12twothree33456four78\",3,26)\n",
    "print(m)\n",
    "\n",
    "# 上述代码说明的问题\n",
    "#1，match可以输入参数表示起始位置\n",
    "#2.查找到的结果只包含一个，表示第一次进行匹配成功的内容"
   ]
  },
  {
   "cell_type": "code",
   "execution_count": 10,
   "metadata": {},
   "outputs": [
    {
     "name": "stdout",
     "output_type": "stream",
     "text": [
      "12\n",
      "3\n",
      "5\n"
     ]
    }
   ],
   "source": [
    "print(m[0])\n",
    "print(m.start(0))\n",
    "print(m.end(0))"
   ]
  },
  {
   "cell_type": "code",
   "execution_count": 12,
   "metadata": {},
   "outputs": [
    {
     "name": "stdout",
     "output_type": "stream",
     "text": [
      "<_sre.SRE_Match object; span=(0, 4), match='I am'>\n"
     ]
    }
   ],
   "source": [
    "import re\n",
    "#I表示忽略大小写\n",
    "p = re.compile(r'([a-z]+) ([a-z]+)',re.I)\n",
    "\n",
    "m = p.match(\"I am really love wangxiaojing\")\n",
    "print(m)\n"
   ]
  },
  {
   "cell_type": "code",
   "execution_count": 14,
   "metadata": {},
   "outputs": [
    {
     "name": "stdout",
     "output_type": "stream",
     "text": [
      "I am\n",
      "0\n",
      "4\n"
     ]
    }
   ],
   "source": [
    "print(m.group(0))\n",
    "print(m.start(0))\n",
    "print(m.end(0))"
   ]
  },
  {
   "cell_type": "code",
   "execution_count": 24,
   "metadata": {},
   "outputs": [
    {
     "name": "stdout",
     "output_type": "stream",
     "text": [
      "I\n",
      "0\n",
      "1\n"
     ]
    }
   ],
   "source": [
    "print(m.group(1))\n",
    "print(m.start(1))\n",
    "print(m.end(1))"
   ]
  },
  {
   "cell_type": "code",
   "execution_count": 25,
   "metadata": {},
   "outputs": [
    {
     "name": "stdout",
     "output_type": "stream",
     "text": [
      "('I', 'am')\n"
     ]
    }
   ],
   "source": [
    "print(m.groups())"
   ]
  },
  {
   "cell_type": "markdown",
   "metadata": {},
   "source": [
    "# 查找\n",
    "- search(str,[,pos[,endpos]]):在字符串中查找匹配，pos和endpos表示起始位置\n",
    "- findall:查找所有\n",
    "- finditer: 查找，返回一个iter结果"
   ]
  },
  {
   "cell_type": "code",
   "execution_count": 29,
   "metadata": {},
   "outputs": [
    {
     "name": "stdout",
     "output_type": "stream",
     "text": [
      "12\n"
     ]
    }
   ],
   "source": [
    "import re\n",
    "\n",
    "p = re.compile(r'\\d+')\n",
    "\n",
    "m = p.search(\"one12two34three5678four\")\n",
    "\n",
    "print(m.group())"
   ]
  },
  {
   "cell_type": "code",
   "execution_count": 30,
   "metadata": {},
   "outputs": [
    {
     "name": "stdout",
     "output_type": "stream",
     "text": [
      "<class 'list'>\n",
      "['12', '34', '5678']\n"
     ]
    }
   ],
   "source": [
    "rst = p.findall(\"one12two34three5678four\")\n",
    "print(type(rst))\n",
    "\n",
    "print(rst)"
   ]
  },
  {
   "cell_type": "markdown",
   "metadata": {},
   "source": [
    "# sub替换\n",
    "- sub（rep1,str[,count]）"
   ]
  },
  {
   "cell_type": "code",
   "execution_count": 33,
   "metadata": {},
   "outputs": [
    {
     "name": "stdout",
     "output_type": "stream",
     "text": [
      "Hello world Hello world xiaojing, Hello world you\n"
     ]
    }
   ],
   "source": [
    "import re\n",
    "\n",
    "p = re.compile(r'(\\w+) (\\w+)')\n",
    "\n",
    "s = \"hello 123 wang 456 xiaojing, i love you\"\n",
    "\n",
    "rst = p.sub(r'Hello world',s)\n",
    "print(rst)"
   ]
  },
  {
   "cell_type": "markdown",
   "metadata": {},
   "source": [
    "# 匹配中文\n",
    "- 大部分中文内容表示范围是[u4e00-u9fa5], 不包含全角标点"
   ]
  },
  {
   "cell_type": "code",
   "execution_count": 34,
   "metadata": {},
   "outputs": [
    {
     "name": "stdout",
     "output_type": "stream",
     "text": [
      "['世', '界', '你', '好']\n"
     ]
    }
   ],
   "source": [
    "import re\n",
    "\n",
    "title = u'世界 你好， hello moto'\n",
    "\n",
    "p = re.compile(r'[\\u4e00-\\u9fa5]')\n",
    "rst = p.findall(title)\n",
    "\n",
    "print(rst)"
   ]
  },
  {
   "cell_type": "markdown",
   "metadata": {},
   "source": [
    "# 贪婪和非贪婪\n",
    "- 贪婪：尽可能多的匹配，（*）表示贪婪匹配\n",
    "- 非贪婪：找到符合条件的最小内容即可，（?）表示非贪婪\n",
    "- 正则默认使用贪婪匹配"
   ]
  },
  {
   "cell_type": "code",
   "execution_count": 35,
   "metadata": {},
   "outputs": [
    {
     "name": "stdout",
     "output_type": "stream",
     "text": [
      "<div>name</div><div>age</div>\n",
      "<div>name</div>\n"
     ]
    }
   ],
   "source": [
    "import re\n",
    "\n",
    "title = u'<div>name</div><div>age</div>'\n",
    "\n",
    "p1 = re.compile(r'<div>.*</div>')\n",
    "p2 = re.compile(r'<div>.*?</div>')\n",
    "\n",
    "m1 = p1.search(title)\n",
    "print(m1.group())\n",
    "\n",
    "m2 = p2.search(title)\n",
    "print(m2.group())"
   ]
  }
 ],
 "metadata": {
  "kernelspec": {
   "display_name": "Python 3",
   "language": "python",
   "name": "python3"
  },
  "language_info": {
   "codemirror_mode": {
    "name": "ipython",
    "version": 3
   },
   "file_extension": ".py",
   "mimetype": "text/x-python",
   "name": "python",
   "nbconvert_exporter": "python",
   "pygments_lexer": "ipython3",
   "version": "3.6.5"
  }
 },
 "nbformat": 4,
 "nbformat_minor": 2
}
