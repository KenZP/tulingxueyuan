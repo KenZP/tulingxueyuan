{
 "cells": [
  {
   "cell_type": "markdown",
   "metadata": {},
   "source": [
    "# 文件\n",
    "- 长久保存信息的一种数据信息集合\n",
    "- 常用操作\n",
    "  - 打开关闭（文件一旦打开，需要关闭操作）\n",
    "  - 读写内容\n",
    "  - 查找\n",
    "# Open函数\n",
    "- open函数负责打开文件，带有很多参数\n",
    "- 第一个参数： 必须有，文件的路径和名称\n",
    "- mode： 表明文件用什么方式打开\n",
    "  - r: 以只读方式打开\n",
    "  - w: 写方式打开\n",
    "  - x: 创建方式打开，如果文件已经存在，报错\n",
    "  - a: append方式，以追加的方式对文件内容进行写入\n",
    "  - b: binary方式，二进制方式写入\n",
    "  - t: 文本方式打开\n",
    "  - +： 可读写"
   ]
  },
  {
   "cell_type": "code",
   "execution_count": 1,
   "metadata": {},
   "outputs": [],
   "source": [
    "# 打开文件，即写的方式\n",
    "#r表示后面字符串内容不需要转义\n",
    "#f称之为文件句柄\n",
    "f = open(r\"test01.txt\",\"w\")\n",
    "#文件打开后必须关闭\n",
    "f.close()\n",
    "\n",
    "#此案例说明，以写方式打开文件，默认是如果没有文件，则创建\n"
   ]
  },
  {
   "cell_type": "markdown",
   "metadata": {},
   "source": [
    "# with语句\n",
    "- with语句使用的技术是一种成为上下文管理协议的技术\n",
    "- 自动判断文件的作用域，自动关闭不在使用的打开的文件句柄"
   ]
  },
  {
   "cell_type": "code",
   "execution_count": 2,
   "metadata": {},
   "outputs": [],
   "source": [
    "with open(r\"test01.txt\",\"r\") as f:\n",
    "    pass\n",
    "    #下面语句对文件f操作"
   ]
  },
  {
   "cell_type": "code",
   "execution_count": 10,
   "metadata": {},
   "outputs": [
    {
     "name": "stdout",
     "output_type": "stream",
     "text": [
      "hello\n",
      "\n",
      "hello1\n",
      "\n",
      "hello2\n"
     ]
    }
   ],
   "source": [
    "with open(r\"test01.txt\",\"r\") as f:\n",
    "    strline = f.readline()\n",
    "    #此结构保证能够完整读取文件的全部内容\n",
    "    while strline:\n",
    "        print(strline)\n",
    "        strline = f.readline()"
   ]
  },
  {
   "cell_type": "code",
   "execution_count": 13,
   "metadata": {},
   "outputs": [
    {
     "name": "stdout",
     "output_type": "stream",
     "text": [
      "19\n",
      "hello\n",
      "hello1\n",
      "hello2\n"
     ]
    }
   ],
   "source": [
    "# read是按字符读取文件内容\n",
    "#允许输入参数决定读取几个字符，如果没有指定，从当前位置读取到结尾\n",
    "#否则，从当前位置读取到指定个数字符\n",
    "\n",
    "with open(r'test01.txt','r') as f:\n",
    "    strChar = f.read()\n",
    "    print(len(strChar))\n",
    "    print(strChar)"
   ]
  },
  {
   "cell_type": "markdown",
   "metadata": {},
   "source": [
    "# seek(offset,from)\n",
    "- 移动文件的读取位置，也叫读取指针\n",
    "- from的取值范围\n",
    "  - 0： 从文件开始偏移\n",
    "  - 1： 从文件当前位置开始偏移\n",
    "  - 2： 从文件末尾开始便宜\n",
    "- 移动的单位是字节（byte）\n",
    "- 一个汉字由若干个字节构成\n",
    "- 返回文件只针对当前位置"
   ]
  },
  {
   "cell_type": "code",
   "execution_count": 16,
   "metadata": {},
   "outputs": [
    {
     "name": "stdout",
     "output_type": "stream",
     "text": [
      "o\n",
      "hello1\n",
      "hello2\n"
     ]
    }
   ],
   "source": [
    "#seek\n",
    "# 打开文件后，从第5个字节开始读\n",
    "#打开读写指针在0处，即文件的开头\n",
    "\n",
    "with open(r'test01.txt','r') as f:\n",
    "    f.seek(4,0)\n",
    "    strChar = f.read()\n",
    "    print(strChar)"
   ]
  },
  {
   "cell_type": "code",
   "execution_count": 18,
   "metadata": {},
   "outputs": [
    {
     "name": "stdout",
     "output_type": "stream",
     "text": [
      "hel\n",
      "lo\n",
      "\n",
      "hel\n",
      "lo1\n",
      "\n",
      "he\n",
      "llo\n",
      "2\n"
     ]
    }
   ],
   "source": [
    "#关于读取文件的联系\n",
    "#打开文件，三个字符一组读出来，然后显示在屏幕上\n",
    "#每读取一次，休息一秒钟\n",
    "\n",
    "import time\n",
    "\n",
    "with open(r'test01.txt','r') as f:\n",
    "    strChar = f.read(3)\n",
    "    while strChar:\n",
    "        print(strChar)\n",
    "        time.sleep(1)\n",
    "        strChar = f.read(3)"
   ]
  },
  {
   "cell_type": "code",
   "execution_count": 19,
   "metadata": {},
   "outputs": [
    {
     "name": "stdout",
     "output_type": "stream",
     "text": [
      "3\n",
      "hel\n",
      "6\n",
      "lo\n",
      "\n",
      "9\n",
      "hel\n",
      "12\n",
      "lo1\n",
      "15\n",
      "\n",
      "he\n",
      "18\n",
      "llo\n",
      "19\n",
      "2\n"
     ]
    }
   ],
   "source": [
    "# tell函数：用来显示文件读写指针的当前位置\n",
    "\n",
    "with open(r'test01.txt','r') as f:\n",
    "    strChar = f.read(3)\n",
    "    pos = f.tell()\n",
    "    while strChar:\n",
    "        print(pos)\n",
    "        print(strChar)\n",
    "        \n",
    "        strChar = f.read(3)\n",
    "        pos = f.tell()\n",
    "# 一下结果说明：\n",
    "# tell的返回结果是以byte位单位\n",
    "# read是以字节位单位"
   ]
  },
  {
   "cell_type": "markdown",
   "metadata": {},
   "source": [
    "# 文件的写操作-write\n",
    "- write（str）： 把字符串写入文件\n",
    "- writelines（str）： 把字符串按行写入文件\n",
    "- 区别：\n",
    "  - write函数参数只能是字符串\n",
    "  - writeline函数参数可以是字符串，也可以是字符序列list"
   ]
  },
  {
   "cell_type": "code",
   "execution_count": 21,
   "metadata": {},
   "outputs": [],
   "source": [
    "#write案例\n",
    "# 1. 向文件追加一句诗\n",
    "\n",
    "with open(r'test01.txt','a') as f:\n",
    "    f.write(\"\\n sjdhsjhdsjhd\")\n",
    "    "
   ]
  },
  {
   "cell_type": "code",
   "execution_count": 24,
   "metadata": {},
   "outputs": [],
   "source": [
    "#也可以直接写入行，用writelines\n",
    "#writelines表示写入很多行，参数可以是list格式\n",
    "#a方式追加打开\n",
    "with open(r'test01.txt','a') as f:\n",
    "    f.writelines(\"sjdhsjhdsjhd\")\n",
    "    f.writelines(\"hjuyhj\")"
   ]
  },
  {
   "cell_type": "code",
   "execution_count": 26,
   "metadata": {},
   "outputs": [],
   "source": [
    "l = [\"i\",\"love\",\"hh\"]\n",
    "\n",
    "#a方式追加打开\n",
    "with open(r'test01.txt','a') as f:\n",
    "    f.writelines(l)\n"
   ]
  },
  {
   "cell_type": "markdown",
   "metadata": {},
   "source": [
    "# 持久化 - pickle\n",
    "- 序列化（持久化，落地）：把程序运行中的信息保存在磁盘上\n",
    "- 反序列化：序列化的逆过程\n",
    "- pickle： python提供的序列化模块\n",
    "- pickle.dump：序列化\n",
    "- pickle.load： 反序列化"
   ]
  },
  {
   "cell_type": "code",
   "execution_count": 27,
   "metadata": {},
   "outputs": [],
   "source": [
    "import pickle\n",
    "age = 19\n",
    "\n",
    "with open(r'test01.txt','wb') as f:\n",
    "    pickle.dump(age,f)"
   ]
  },
  {
   "cell_type": "code",
   "execution_count": 28,
   "metadata": {},
   "outputs": [
    {
     "name": "stdout",
     "output_type": "stream",
     "text": [
      "19\n"
     ]
    }
   ],
   "source": [
    "import pickle\n",
    "\n",
    "with open(r'test01.txt','rb') as f:\n",
    "    age = pickle.load(f)\n",
    "    print(age)"
   ]
  },
  {
   "cell_type": "code",
   "execution_count": 29,
   "metadata": {},
   "outputs": [],
   "source": [
    "import pickle\n",
    "a = [19,'hjhj','uiy']\n",
    "\n",
    "with open(r'test01.txt','wb') as f:\n",
    "    pickle.dump(a,f)"
   ]
  },
  {
   "cell_type": "code",
   "execution_count": 30,
   "metadata": {},
   "outputs": [
    {
     "name": "stdout",
     "output_type": "stream",
     "text": [
      "[19, 'hjhj', 'uiy']\n"
     ]
    }
   ],
   "source": [
    "import pickle\n",
    "\n",
    "with open(r'test01.txt','rb') as f:\n",
    "    a = pickle.load(f)\n",
    "    print(a)"
   ]
  },
  {
   "cell_type": "markdown",
   "metadata": {},
   "source": [
    "# 持久化-shelve\n",
    "- 持久化工具\n",
    "- 类似字典，用kv对数据保存，存取方式跟字典也类似\n",
    "- open，close"
   ]
  },
  {
   "cell_type": "code",
   "execution_count": 34,
   "metadata": {},
   "outputs": [],
   "source": [
    "import shelve\n",
    "#打开文件\n",
    "#shv相当于一个字典\n",
    "shv = shelve.open(r'shv.db')\n",
    "shv['one'] = 1\n",
    "shv['two'] = 2\n",
    "shv['three'] = 3\n",
    "shv.close()\n",
    "#通过以上案例发现，shelve自动化创建的不仅仅是一个shv.db文件，还包括其他格式的文件，保证能争取读取数据库"
   ]
  },
  {
   "cell_type": "code",
   "execution_count": 42,
   "metadata": {},
   "outputs": [
    {
     "name": "stdout",
     "output_type": "stream",
     "text": [
      "1\n",
      "出错了\n"
     ]
    }
   ],
   "source": [
    "# shelve读取案例\n",
    "shv = shelve.open(r'shv.db')\n",
    "try:\n",
    "    print(shv['one'])\n",
    "    print(shv['three'])\n",
    "except Exception as e:\n",
    "    print('出错了')\n",
    "finally:\n",
    "    shv.close()"
   ]
  },
  {
   "cell_type": "markdown",
   "metadata": {},
   "source": [
    "# shelve特性\n",
    "- 不支持多个应用并行写入\n",
    "  - 为了解决这个问题，open的时候可以使用flag=r\n",
    "- 写回问题\n",
    "  - shelve情况下不等待持久化对象进行任何修改\n",
    "  - 解决方法：强制写回，writeback=True"
   ]
  },
  {
   "cell_type": "code",
   "execution_count": 44,
   "metadata": {},
   "outputs": [
    {
     "name": "stdout",
     "output_type": "stream",
     "text": [
      "1\n"
     ]
    }
   ],
   "source": [
    "# 以只读方式打开\n",
    "\n",
    "import shelve\n",
    "\n",
    "shv = shelve.open(r'shv.db',flag='r')\n",
    "\n",
    "try:\n",
    "    k1 = shv['one']\n",
    "    print(k1)\n",
    "finally:\n",
    "    shv.close()"
   ]
  },
  {
   "cell_type": "code",
   "execution_count": null,
   "metadata": {},
   "outputs": [],
   "source": [
    "import shelve\n",
    "\n",
    "shv = shleve.open(r'shv.db')\n",
    "try:\n",
    "    k1 = shv['one']\n",
    "    print(k1)"
   ]
  }
 ],
 "metadata": {
  "kernelspec": {
   "display_name": "Python 3",
   "language": "python",
   "name": "python3"
  },
  "language_info": {
   "codemirror_mode": {
    "name": "ipython",
    "version": 3
   },
   "file_extension": ".py",
   "mimetype": "text/x-python",
   "name": "python",
   "nbconvert_exporter": "python",
   "pygments_lexer": "ipython3",
   "version": "3.6.5"
  }
 },
 "nbformat": 4,
 "nbformat_minor": 2
}
