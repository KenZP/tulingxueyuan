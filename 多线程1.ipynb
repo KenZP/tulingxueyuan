{
 "cells": [
  {
   "cell_type": "markdown",
   "metadata": {},
   "source": [
    "# 共享变量\n",
    "- 当多个线程同时访问一个变量的时候，会产生共享变量的问题\n",
    "- "
   ]
  },
  {
   "cell_type": "code",
   "execution_count": 6,
   "metadata": {},
   "outputs": [
    {
     "name": "stdout",
     "output_type": "stream",
     "text": [
      "starting ......0\n",
      "Done .... -122577\n"
     ]
    }
   ],
   "source": [
    "import threading\n",
    "\n",
    "sum = 0\n",
    "loopSum = 1000000\n",
    "\n",
    "def myAdd():\n",
    "    global sum, loopSum\n",
    "    for i in range(1,loopSum):\n",
    "        sum += 1\n",
    "        \n",
    "def myMinu():\n",
    "    global sum, loopSum\n",
    "    for i in range(1,loopSum):\n",
    "        sum -= 1\n",
    "        \n",
    "if __name__ == '__main__':\n",
    "    print(\"starting ......{0}\".format(sum))\n",
    "    t1 = threading.Thread(target = myAdd, args = ())\n",
    "    t2 = threading.Thread(target = myMinu, args = ())\n",
    "    \n",
    "    t1.start()\n",
    "    t2.start()\n",
    "    \n",
    "    t1.join()\n",
    "    t2.join()\n",
    "    \n",
    "    print(\"Done .... {0}\".format(sum))\n",
    "    "
   ]
  },
  {
   "cell_type": "markdown",
   "metadata": {},
   "source": [
    "# 解决共享变量问题\n",
    "- 锁，信号灯\n",
    "- 锁（Lock）：\n",
    "  - 是一个标志，表示一个线程在占用一些资源。\n",
    "  - 使用方法\n",
    "    - 上锁\n",
    "    - 使用共享资源，放心的用\n",
    "    - 取消锁，释放锁\n",
    "  - 锁谁： 那个资源需要多个线程共享，锁那个\n",
    "  - 理解锁： 锁其实不是锁住谁，而是一个令牌  "
   ]
  },
  {
   "cell_type": "code",
   "execution_count": 8,
   "metadata": {},
   "outputs": [
    {
     "name": "stdout",
     "output_type": "stream",
     "text": [
      "starting ......0\n",
      "Done .... 0\n"
     ]
    }
   ],
   "source": [
    "import threading\n",
    "\n",
    "sum = 0\n",
    "loopSum = 1000000\n",
    "\n",
    "lock = threading.Lock()\n",
    "\n",
    "def myAdd():\n",
    "    global sum, loopSum\n",
    "    for i in range(1,loopSum):\n",
    "        #申请锁\n",
    "        lock.acquire()\n",
    "        sum += 1\n",
    "        lock.release()\n",
    "        \n",
    "def myMinu():\n",
    "    global sum, loopSum\n",
    "    for i in range(1,loopSum):\n",
    "        lock.acquire()\n",
    "        sum -= 1\n",
    "        lock.release()\n",
    "        \n",
    "if __name__ == '__main__':\n",
    "    print(\"starting ......{0}\".format(sum))\n",
    "    t1 = threading.Thread(target = myAdd, args = ())\n",
    "    t2 = threading.Thread(target = myMinu, args = ())\n",
    "    \n",
    "    t1.start()\n",
    "    t2.start()\n",
    "    \n",
    "    t1.join()\n",
    "    t2.join()\n",
    "    \n",
    "    print(\"Done .... {0}\".format(sum))"
   ]
  },
  {
   "cell_type": "markdown",
   "metadata": {},
   "source": [
    "# 线程安全问题\n",
    "  - 如果一个资源/变量，他对于多线程来讲，不用加锁也不会引起任何问题，则称为线程安全\n",
    "  - 线程不安全变量类型：list set dict\n",
    "  - 线程安全变量类型：queue\n",
    "# 生产者消费者问题\n",
    "  - 一个模型，可以用来搭建消息队列"
   ]
  },
  {
   "cell_type": "code",
   "execution_count": null,
   "metadata": {},
   "outputs": [],
   "source": []
  }
 ],
 "metadata": {
  "kernelspec": {
   "display_name": "Python 3",
   "language": "python",
   "name": "python3"
  },
  "language_info": {
   "codemirror_mode": {
    "name": "ipython",
    "version": 3
   },
   "file_extension": ".py",
   "mimetype": "text/x-python",
   "name": "python",
   "nbconvert_exporter": "python",
   "pygments_lexer": "ipython3",
   "version": "3.6.5"
  }
 },
 "nbformat": 4,
 "nbformat_minor": 2
}
